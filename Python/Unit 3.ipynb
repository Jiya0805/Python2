{
 "cells": [
  {
   "cell_type": "code",
   "execution_count": null,
   "metadata": {},
   "outputs": [],
   "source": [
    "Sequence of characters that forms a search pattern \n",
    "used to check if string contains specified search pattern\n",
    "\n",
    "# . – Matches any character except newline.\n",
    "\n",
    "# ** – Escapes special characters or introduces special sequences.\n",
    "\n",
    "# ^ – Anchors the match at the start of the string.\n",
    "\n",
    "# $ – Anchors the match at the end of the string.\n",
    "\n",
    "# * – Matches 0 or more of the preceding element.\n",
    "\n",
    "# + – Matches 1 or more of the preceding element.\n",
    "\n",
    "# ? – Matches 0 or 1 of the preceding element.\n",
    "\n",
    "# {n} – Matches exactly n repetitions of the preceding element.\n",
    "\n",
    "# {n,} – Matches n or more repetitions of the preceding element.\n",
    "\n",
    "# {n,m} – Matches between n and m repetitions of the preceding element.\n",
    "\n",
    "# [] – Matches any one character inside the brackets.\n",
    "\n",
    "# [^] – Matches any character except those inside the brackets.\n",
    "\n",
    "# \\d – Matches any digit (0-9).\n",
    "\n",
    "# \\D – Matches any non-digit.\n",
    "\n",
    "# \\w – Matches a word character (A-Z, a-z, 0-9, _).\n",
    "\n",
    "# \\W – Matches a non-word character.\n",
    "\n",
    "# \\s – Matches any whitespace character (space, tab, newline).\n",
    "\n",
    "# \\S – Matches any non-whitespace character.\n",
    "\n",
    "# () – Groups expressions and captures matched text.\n",
    "\n",
    "# | – Alternation (OR), matches either the expression before or after.\n",
    "\n",
    "# (?=...) – Positive lookahead.\n",
    "\n",
    "# (?!...) – Negative lookahead.\n",
    "\n",
    "# (?<=...) – Positive lookbehind.\n",
    "\n",
    "# (?<!...) – Negative lookbehind.\n",
    "\n",
    "# \\b – Word boundary (between word and non-word characters).\n",
    "\n",
    "# \\B – Non-word boundary (not between word and non-word characters)."
   ]
  },
  {
   "cell_type": "code",
   "execution_count": 1,
   "metadata": {},
   "outputs": [],
   "source": [
    "import re"
   ]
  },
  {
   "cell_type": "code",
   "execution_count": 8,
   "metadata": {},
   "outputs": [
    {
     "name": "stdout",
     "output_type": "stream",
     "text": [
      "['ai', 'ai']\n",
      "['r', 'a', 'n', 'n', 'a', 'n']\n",
      "['T', 'h', 'e', ' ', 'i', ' ', 'i', ' ', 's', 'p', 'i']\n",
      "[]\n"
     ]
    }
   ],
   "source": [
    "# findall\n",
    "\n",
    "txt = \"The rain in spain\"\n",
    "\n",
    "x = re.findall(\"ai\",txt)\n",
    "print(x)\n",
    "\n",
    "y = re.findall(\"[arn]\",txt)\n",
    "print(y)\n",
    "\n",
    "y = re.findall(\"[^arn]\",txt)\n",
    "print(y)\n",
    "\n",
    "y = re.findall(\"paris\",txt)\n",
    "print(y)"
   ]
  },
  {
   "cell_type": "code",
   "execution_count": 12,
   "metadata": {},
   "outputs": [
    {
     "name": "stdout",
     "output_type": "stream",
     "text": [
      "['5', '9', '1', '2', '3', '3']\n",
      "['59', '123', '3']\n"
     ]
    }
   ],
   "source": [
    "txt = \"That will be 59 dollars 123XY3Z.\"\n",
    "\n",
    "x = re.findall(\"\\d\",txt)\n",
    "print(x)\n",
    "\n",
    "x = re.findall(\"\\d+\",txt)\n",
    "print(x)"
   ]
  },
  {
   "cell_type": "code",
   "execution_count": 16,
   "metadata": {},
   "outputs": [
    {
     "name": "stdout",
     "output_type": "stream",
     "text": [
      "['hello']\n",
      "['hello']\n",
      "[]\n"
     ]
    }
   ],
   "source": [
    "txt = \"hello planet helo\"\n",
    "\n",
    "x = re.findall(\"he..o\",txt)\n",
    "print(x)\n",
    "\n",
    "x = re.findall(\"^hello\",txt)\n",
    "print(x)\n",
    "\n",
    "x = re.findall(\"planet$\",txt)\n",
    "print(x)"
   ]
  },
  {
   "cell_type": "code",
   "execution_count": 17,
   "metadata": {},
   "outputs": [
    {
     "ename": "SyntaxError",
     "evalue": "invalid syntax (<ipython-input-17-4ee7c49f6597>, line 1)",
     "output_type": "error",
     "traceback": [
      "\u001b[1;36m  File \u001b[1;32m\"<ipython-input-17-4ee7c49f6597>\"\u001b[1;36m, line \u001b[1;32m1\u001b[0m\n\u001b[1;33m    txt =\u001b[0m\n\u001b[1;37m          ^\u001b[0m\n\u001b[1;31mSyntaxError\u001b[0m\u001b[1;31m:\u001b[0m invalid syntax\n"
     ]
    }
   ],
   "source": [
    "txt = "
   ]
  },
  {
   "cell_type": "code",
   "execution_count": 18,
   "metadata": {},
   "outputs": [
    {
     "name": "stdout",
     "output_type": "stream",
     "text": [
      "['hello']\n",
      "[]\n"
     ]
    }
   ],
   "source": [
    "txt = \"hello hellar\"\n",
    "\n",
    "x = re.findall(\"hell.*o\",txt)\n",
    "print(x)\n",
    "\n",
    "x = re.findall(\"hell.+o\",txt)\n",
    "print(x)"
   ]
  },
  {
   "cell_type": "code",
   "execution_count": 20,
   "metadata": {},
   "outputs": [
    {
     "name": "stdout",
     "output_type": "stream",
     "text": [
      "['helo', 'heo']\n",
      "['hello']\n"
     ]
    }
   ],
   "source": [
    "txt = \"hello helo heo planet\"\n",
    "\n",
    "x = re.findall(\"he.?o\",txt)\n",
    "print(x)\n",
    "\n",
    "x = re.findall(\"he.{2}o\",txt)\n",
    "print(x)"
   ]
  },
  {
   "cell_type": "code",
   "execution_count": 25,
   "metadata": {},
   "outputs": [
    {
     "name": "stdout",
     "output_type": "stream",
     "text": [
      "['spain ', ' plain']\n"
     ]
    }
   ],
   "source": [
    "txt = \"The rain in spain mainly in plain\"\n",
    "\n",
    "x = re.findall(\"spain | plain\",txt)\n",
    "print(x)"
   ]
  },
  {
   "cell_type": "code",
   "execution_count": 27,
   "metadata": {},
   "outputs": [
    {
     "name": "stdout",
     "output_type": "stream",
     "text": [
      "['8', '1', '1', '4', '5']\n",
      "['11', '45']\n"
     ]
    }
   ],
   "source": [
    "txt = \"8 times before 11:45 AM\"\n",
    "\n",
    "x = re.findall(\"[0-9]\",txt)\n",
    "print(x)\n",
    "\n",
    "x = re.findall(\"[0-5][0-9]\",txt)\n",
    "print(x)"
   ]
  },
  {
   "cell_type": "code",
   "execution_count": 28,
   "metadata": {},
   "outputs": [],
   "source": [
    "# search : first occurance"
   ]
  },
  {
   "cell_type": "code",
   "execution_count": 38,
   "metadata": {},
   "outputs": [
    {
     "name": "stdout",
     "output_type": "stream",
     "text": [
      "<re.Match object; span=(3, 4), match=' '>\n",
      "(3, 4)\n",
      "3\n",
      "4\n",
      "\n",
      "None\n",
      "\n",
      "<re.Match object; span=(3, 6), match='   '>\n"
     ]
    }
   ],
   "source": [
    "txt = \"The   rain in spain\"\n",
    " \n",
    "x = re.search(\"\\s\",txt)\n",
    "print(x)\n",
    "print(x.span())\n",
    "print(x.start())\n",
    "print(x.end())\n",
    "print()\n",
    "x = re.search(\"paris\",txt)\n",
    "print(x)\n",
    "print()\n",
    "x = re.search(\"\\s+\",txt)\n",
    "print(x)"
   ]
  },
  {
   "cell_type": "code",
   "execution_count": 40,
   "metadata": {},
   "outputs": [
    {
     "name": "stdout",
     "output_type": "stream",
     "text": [
      "<re.Match object; span=(3, 4), match='7'>\n",
      "<re.Match object; span=(3, 7), match='7756'>\n"
     ]
    }
   ],
   "source": [
    "txt = \"no 7756 spain\"\n",
    "\n",
    "x = re.search(\"\\d\",txt)\n",
    "print(x)\n",
    "\n",
    "x = re.search(\"\\d+\",txt)\n",
    "print(x)"
   ]
  },
  {
   "cell_type": "code",
   "execution_count": 41,
   "metadata": {},
   "outputs": [],
   "source": [
    "# split"
   ]
  },
  {
   "cell_type": "code",
   "execution_count": 44,
   "metadata": {},
   "outputs": [
    {
     "name": "stdout",
     "output_type": "stream",
     "text": [
      "['The', 'rain', 'in', 'spain']\n",
      "['The', 'rain', 'in spain']\n"
     ]
    }
   ],
   "source": [
    "txt = \"The rain in spain\"\n",
    " \n",
    "x = re.split(\"\\s\",txt)\n",
    "print(x)\n",
    "\n",
    "x = re.split(\"\\s\",txt,2) # max split parameter\n",
    "print(x)"
   ]
  },
  {
   "cell_type": "code",
   "execution_count": 46,
   "metadata": {},
   "outputs": [
    {
     "name": "stdout",
     "output_type": "stream",
     "text": [
      "['', '_', '_', '@', '']\n",
      "['', '_', '_', '@', '#']\n"
     ]
    }
   ],
   "source": [
    "txt = \"the_quick_brown@fox\"\n",
    "\n",
    "pattern = \"[a-zA-Z]+\"\n",
    "x = re.split(pattern,txt)\n",
    "print(x)\n",
    "\n",
    "txt = \"the_quick_brown@fox#\"\n",
    "\n",
    "pattern = \"[a-zA-Z]+\"\n",
    "x = re.split(pattern,txt)\n",
    "print(x)"
   ]
  },
  {
   "cell_type": "code",
   "execution_count": 47,
   "metadata": {},
   "outputs": [
    {
     "name": "stdout",
     "output_type": "stream",
     "text": [
      "['The', 'brown', 'jumps', 'the', 'dog']\n"
     ]
    }
   ],
   "source": [
    "txt = \"The quick brown fox jumps over the lazy dog\"\n",
    "\n",
    "pattern = \"\\s+\\w+\\s\"\n",
    "x = re.split(pattern,txt)\n",
    "print(x)"
   ]
  },
  {
   "cell_type": "code",
   "execution_count": 49,
   "metadata": {},
   "outputs": [
    {
     "name": "stdout",
     "output_type": "stream",
     "text": [
      "['Twelve:', ' Eighty Nine:', '.']\n"
     ]
    }
   ],
   "source": [
    "txt = \"Twelve:12 Eighty Nine:89.\"\n",
    "\n",
    "pattern = \"\\d+\"\n",
    "x = re.split(pattern,txt)\n",
    "print(x)"
   ]
  },
  {
   "cell_type": "code",
   "execution_count": 50,
   "metadata": {},
   "outputs": [],
   "source": [
    "# sub --> replace (what to replace , replacement , where to replace)"
   ]
  },
  {
   "cell_type": "code",
   "execution_count": 52,
   "metadata": {},
   "outputs": [
    {
     "name": "stdout",
     "output_type": "stream",
     "text": [
      "The9rain9in9spain\n",
      "The9rain9in spain\n"
     ]
    }
   ],
   "source": [
    "txt = \"The rain in spain\"\n",
    " \n",
    "x = re.sub(\"\\s\",\"9\",txt)\n",
    "print(x)\n",
    "\n",
    "x = re.sub(\"\\s\",\"9\",txt,2)\n",
    "print(x)"
   ]
  },
  {
   "cell_type": "code",
   "execution_count": 53,
   "metadata": {},
   "outputs": [
    {
     "name": "stdout",
     "output_type": "stream",
     "text": [
      "The rain in spain\n"
     ]
    }
   ],
   "source": [
    "txt = \"The rain in        spain\"\n",
    " \n",
    "x = re.sub(\"\\s+\",\" \",txt)\n",
    "print(x)\n"
   ]
  },
  {
   "cell_type": "code",
   "execution_count": null,
   "metadata": {},
   "outputs": [],
   "source": []
  }
 ],
 "metadata": {
  "kernelspec": {
   "display_name": "Python 3",
   "language": "python",
   "name": "python3"
  },
  "language_info": {
   "codemirror_mode": {
    "name": "ipython",
    "version": 3
   },
   "file_extension": ".py",
   "mimetype": "text/x-python",
   "name": "python",
   "nbconvert_exporter": "python",
   "pygments_lexer": "ipython3",
   "version": "3.8.5"
  }
 },
 "nbformat": 4,
 "nbformat_minor": 4
}
