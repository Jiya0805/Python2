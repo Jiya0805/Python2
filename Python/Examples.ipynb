{
 "cells": [
  {
   "cell_type": "code",
   "execution_count": 1,
   "metadata": {},
   "outputs": [],
   "source": [
    "import numpy as np\n",
    "import pandas as pd "
   ]
  },
  {
   "cell_type": "code",
   "execution_count": 13,
   "metadata": {},
   "outputs": [
    {
     "data": {
      "text/plain": [
       "1494    Amitabh Bachchan\n",
       "Name: lead, dtype: object"
      ]
     },
     "execution_count": 13,
     "metadata": {},
     "output_type": "execute_result"
    }
   ],
   "source": [
    "data = pd.read_csv(\"bollywood.csv\")\n",
    "\n",
    "# number of Vicky Kaushal movies\n",
    "data[data[\"lead\"]==\"Vicky Kaushal\"].shape[0] #2\n",
    "\n",
    "# Kaante movie lead\n",
    "data[data[\"movie\"]==\"Kaante\"]['lead'] #Amitabh Bachchan"
   ]
  },
  {
   "cell_type": "code",
   "execution_count": 61,
   "metadata": {},
   "outputs": [
    {
     "name": "stdout",
     "output_type": "stream",
     "text": [
      "Uri: The Surgical Strike  :  11 January 2019 (USA)\n",
      "Battalion 609  :  11 January 2019 (India)\n",
      "The Accidental Prime Minister  :  11 January 2019 (USA)\n",
      "Why Cheat India  :  18 January 2019 (USA)\n",
      "Fraud Saiyyan  :  18 January 2019 (India)\n",
      "Bombairiya  :  18 January 2019 (India)\n",
      "Manikarnika: The Queen of Jhansi  :  25 January 2019 (USA)\n",
      "Thackeray  :  25 January 2019 (India)\n",
      "Amavas  :  8 February 2019 (India)\n",
      "Gully Boy  :  14 February 2019 (USA)\n",
      "Hum chaar  :  15 February 2019 (India)\n",
      "Total Dhamaal  :  22 February 2019 (India)\n",
      "Sonchiriya  :  1 March 2019 (India)\n",
      "Badla  :  8 March 2019 (India)\n",
      "Photograph  :  17 May 2019 (USA)\n",
      "Risknamaa  :  15 March 2019 (India)\n",
      "22 Yards  :  15 March 2019 (India)\n",
      "Kesari  :  21 March 2019 (USA)\n",
      "Notebook  :  29 March 2019 (USA)\n",
      "Junglee  :  29 March 2019 (USA)\n",
      "Gone Kesh  :  29 March 2019 (India)\n",
      "Albert Pinto Ko Gussa Kyun Aata Hai?  :  12 April 2019 (India)\n",
      "The Tashkent Files  :  12 April 2019 (India)\n",
      "Kalank  :  17 April 2019 (USA)\n",
      "Setters  :  3 May 2019 (India)\n",
      "Student of the Year 2  :  10 May 2019 (USA)\n",
      "PM Narendra Modi  :  24 May 2019 (USA)\n",
      "De De Pyaar De  :  17 May 2019 (USA)\n",
      "India's Most Wanted  :  24 May 2019 (USA)\n",
      "Khamoshi  :  14 June 2019 (India)\n",
      "Kabir Singh  :  20 June 2019 (USA)\n",
      "Article 15  :  28 June 2019 (USA)\n",
      "One Day: Justice Delivered  :  5 July 2019 (India)\n",
      "Hume Tumse Pyaar Kitna  :  5 July 2019 (India)\n",
      "Super 30  :  12 July 2019 (USA)\n",
      "Family of Thakurganj  :  19 July 2019 (India)\n",
      "Batla House  :  15 August 2019 (USA)\n",
      "Jhootha Kahin Ka  :  19 July 2019 (India)\n",
      "Judgementall Hai Kya  :  26 July 2019 (USA)\n",
      "Chicken Curry Law  :  9 August 2019 (India)\n",
      "Arjun Patiala  :  26 July 2019 (USA)\n",
      "Jabariya Jodi  :  9 August 2019 (USA)\n",
      "Pranaam  :  nan\n",
      "The Sky Is Pink  :  11 October 2019 (USA)\n",
      "Mission Mangal  :  15 August 2019 (USA)\n",
      "Saaho  :  30 August 2019 (USA)\n",
      "Dream Girl  :  13 September 2019 (USA)\n",
      "Section 375  :  13 September 2019 (USA)\n",
      "The Zoya Factor  :  20 September 2019 (USA)\n",
      "Pal Pal Dil Ke Paas  :  20 September 2019 (USA)\n",
      "Prassthanam  :  20 September 2019 (USA)\n",
      "P Se Pyaar F Se Faraar  :  18 October 2019 (India)\n",
      "Ghost  :  18 October 2019 (India)\n",
      "Bala  :  7 November 2019 (USA)\n",
      "#Yaaram  :  nan\n",
      "Housefull 4  :  25 October 2019 (USA)\n",
      "Saand Ki Aankh  :  25 October 2019 (USA)\n",
      "Made in China  :  25 October 2019 (USA)\n",
      "Ujda Chaman  :  1 November 2019 (USA)\n",
      "Bypass Road  :  8 November 2019 (USA)\n",
      "Satellite Shankar  :  8 November 2019 (India)\n",
      "Jhalki  :  nan\n",
      "Marjaavaan  :  15 November 2019 (USA)\n",
      "Motichoor Chaknachoor  :  15 November 2019 (USA)\n",
      "Keep Safe Distance  :  nan\n",
      "Pagalpanti  :  nan\n",
      "Ramprasad Ki Tehrvi  :  nan\n",
      "Yeh Saali Aashiqui  :  nan\n",
      "Dil Bechara  :  nan\n",
      "Pati Patni Aur Woh  :  nan\n",
      "Commando 3  :  nan\n",
      "Mardaani 2  :  nan\n",
      "Dabangg 3  :  nan\n",
      "Good Newwz  :  nan\n",
      "Daaka  :  1 November 2019 (USA)\n"
     ]
    }
   ],
   "source": [
    "movie = pd.read_csv(\"movies.csv\")\n",
    "\n",
    "# number of movies released in 2019\n",
    "movie[movie['year_of_release']==2019].shape[0] #75\n",
    "\n",
    "# number of movies released in 2019 & imdb rating >= 7 \n",
    "movie[(movie['year_of_release']==2019) & (movie[\"imdb_rating\"]>=7)].shape[0] #27\n",
    "\n",
    "# imdb votes >20000\n",
    "data = movie[movie['imdb_votes']>20000][['original_title','story','wiki_link']] #105 rows\n",
    "\n",
    "# creating a csv file\n",
    "data.to_csv(\"data1.csv\",index=False) # it doesn't take the index from the original dataframe\n",
    "data.to_csv(\"data1.csv\",index=True) # it takes the index from the original dataframe\n",
    "\n",
    "d1 = movie[movie['year_of_release']==2019]\n",
    "d1.shape[0] #75\n",
    "for i in range(d1.shape[0]):\n",
    "    print(d1.iloc[i]['original_title'],\" : \",d1.iloc[i]['release_date'])"
   ]
  },
  {
   "cell_type": "code",
   "execution_count": 80,
   "metadata": {},
   "outputs": [
    {
     "data": {
      "text/plain": [
       "match_no\n",
       "82     99\n",
       "81     93\n",
       "145    92\n",
       "Name: runs, dtype: int64"
      ]
     },
     "execution_count": 80,
     "metadata": {},
     "output_type": "execute_result"
    }
   ],
   "source": [
    "# to series\n",
    "k = pd.read_csv(\"kohli_ipl.csv\",index_col=\"match_no\",squeeze=True)\n",
    "\n",
    "# least 10 scores\n",
    "k = k.sort_values(ascending=True)\n",
    "k.head(10)\n",
    "\n",
    "# highest 10 scores\n",
    "k = k.sort_values(ascending=False)\n",
    "k.head(10)\n",
    "\n",
    "# nervous 90\n",
    "k[(k.values>90) & (k.values<100)]"
   ]
  },
  {
   "cell_type": "code",
   "execution_count": 93,
   "metadata": {},
   "outputs": [
    {
     "data": {
      "text/plain": [
       "0"
      ]
     },
     "execution_count": 93,
     "metadata": {},
     "output_type": "execute_result"
    }
   ],
   "source": [
    "ipl = pd.read_csv('ipl-matches.csv')\n",
    "\n",
    "# superover\n",
    "ipl[ipl['WonBy']==\"SuperOver\"].shape[0] #14\n",
    "\n",
    "# WonBy toss winner\n",
    "ipl[ipl['TossWinner']==ipl[\"WinningTeam\"]].shape[0] #489\n",
    "\n",
    "# wonby csk at kolkata\n",
    "ipl[(ipl[\"WinningTeam\"]==\"Chennai Super Kings\") & (ipl['City']=='Kolkata')].shape[0] #5\n",
    "\n",
    "# in how many matches Hardik Pandya is POM vs RR\n",
    "ipl[((ipl['Team1']=='Rajasthan Royals') | (ipl['Team2']=='Rajasthan Royals')) & \n",
    "    (ipl[\"Player_of_Match\"]==\"HH Pandya\")].shape[0] #2\n",
    "\n",
    "# in how many matches GT won the toss and elected to bat and won the match\n",
    "ipl[(ipl[\"TossWinner\"]==\"Gujarat Titans\")&(ipl[\"WinningTeam\"]==\"Gujarat Titans\")&(ipl[\"TossDecision\"]==\"bat\")].shape[0] #2\n",
    "\n",
    "# how many matches GT played\n",
    "ipl[((ipl['Team1']=='Gujarat Titans') | (ipl['Team2']=='Gujarat Titans'))].shape[0] #16\n",
    "\n",
    "# GT in super over\n",
    "ipl[(ipl['WonBy']==\"SuperOver\") & (ipl[\"WinningTeam\"]==\"Gujarat Titans\")].shape[0] #0\n",
    "\n",
    "# team with there win number\n",
    "win={}\n",
    "for i in range(ipl.shape[0]):\n",
    "    win[ipl['WinningTeam']]."
   ]
  },
  {
   "cell_type": "code",
   "execution_count": null,
   "metadata": {},
   "outputs": [],
   "source": []
  }
 ],
 "metadata": {
  "kernelspec": {
   "display_name": "Python 3",
   "language": "python",
   "name": "python3"
  },
  "language_info": {
   "codemirror_mode": {
    "name": "ipython",
    "version": 3
   },
   "file_extension": ".py",
   "mimetype": "text/x-python",
   "name": "python",
   "nbconvert_exporter": "python",
   "pygments_lexer": "ipython3",
   "version": "3.8.5"
  }
 },
 "nbformat": 4,
 "nbformat_minor": 4
}
